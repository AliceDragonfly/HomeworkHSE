{
  "nbformat": 4,
  "nbformat_minor": 0,
  "metadata": {
    "colab": {
      "provenance": [],
      "include_colab_link": true
    },
    "kernelspec": {
      "name": "python3",
      "display_name": "Python 3"
    },
    "language_info": {
      "name": "python"
    }
  },
  "cells": [
    {
      "cell_type": "markdown",
      "metadata": {
        "id": "view-in-github",
        "colab_type": "text"
      },
      "source": [
        "<a href=\"https://colab.research.google.com/github/AliceDragonfly/HomeworkHSE/blob/main/%D0%91%D0%BB%D0%BE%D0%BA%D0%BD%D0%BE%D1%82_%22%D0%9F%D0%B0%D1%80%D1%81%D0%B8%D0%BD%D0%B3_ipynb%22.ipynb\" target=\"_parent\"><img src=\"https://colab.research.google.com/assets/colab-badge.svg\" alt=\"Open In Colab\"/></a>"
      ]
    },
    {
      "cell_type": "markdown",
      "source": [
        "# Домашнее задание 2\n",
        "\n",
        "## pandas + парсинг\n",
        "\n",
        "Здесь находится главная страница [Системного блока](https://sysblok.ru)\n",
        "\n",
        "Соберите корпус новостей (можно спарсить все новости или небольшую часть)\n",
        "\n",
        "Дедлайн: 22 декабря включительно"
      ],
      "metadata": {
        "id": "gWKJuEre_u-N"
      }
    },
    {
      "cell_type": "code",
      "execution_count": null,
      "metadata": {
        "id": "pSRHGrfg_dpE"
      },
      "outputs": [],
      "source": [
        "# необходимые импорты\n",
        "import requests\n",
        "from bs4 import BeautifulSoup\n",
        "import pandas as pd\n",
        "\n",
        "from tqdm import tqdm"
      ]
    },
    {
      "cell_type": "markdown",
      "source": [
        "### шаг 1"
      ],
      "metadata": {
        "id": "F-WJ-h_PA9Bf"
      }
    },
    {
      "cell_type": "code",
      "source": [
        "# Функция для сбора всех ссылок на страницы с новостями\n",
        "def collect_news_pages(base_url, last_page):\n",
        "    # Создание списка URL для всех страниц новостей\n",
        "    all_pages = [f\"{base_url}/page/{i}\" for i in range(1, last_page + 1)]\n",
        "    all_pages.insert(0, base_url)  # Добавление главной страницы\n",
        "    return all_pages"
      ],
      "metadata": {
        "id": "1EZIxFPfAeV3"
      },
      "execution_count": null,
      "outputs": []
    },
    {
      "cell_type": "markdown",
      "source": [
        "### шаг 2"
      ],
      "metadata": {
        "id": "XeIBEKGyA-pn"
      }
    },
    {
      "cell_type": "code",
      "source": [
        "# Функция для сбора всех ссылок на отдельные новости с каждой страницы\n",
        "def collect_news_links(pages):\n",
        "    all_links = []\n",
        "    for page in pages:\n",
        "        response = requests.get(page)  # Запрос к странице\n",
        "        soup = BeautifulSoup(response.content, 'html.parser')  # Парсинг содержимого страницы\n",
        "        for link in soup.find_all('h2'):  # Поиск всех тегов h2, содержащих ссылки на новости\n",
        "            a_tag = link.find('a')  # Поиск тега a внутри h2\n",
        "            if a_tag and 'href' in a_tag.attrs:  # Проверка наличия тега a и атрибута href\n",
        "                all_links.append(a_tag.attrs['href'])  # Добавление ссылки на новость\n",
        "    return all_links"
      ],
      "metadata": {
        "id": "x9ti7TfWA7VN"
      },
      "execution_count": null,
      "outputs": []
    },
    {
      "cell_type": "markdown",
      "source": [
        "### шаг 3\n",
        "\n",
        "работаем с 1 новостью:\n",
        "\n",
        "нас интересует название, автор, дата публикации, текст (дополнительно можно спарсить тематические категории)"
      ],
      "metadata": {
        "id": "tMfZa9Y-Bbtn"
      }
    },
    {
      "cell_type": "code",
      "source": [
        "# Функция для парсинга деталей новости\n",
        "def parse_news_details(news_url):\n",
        "    response = requests.get(news_url)  # Запрос к странице новости\n",
        "    soup = BeautifulSoup(response.content, 'html.parser')  # Парсинг содержимого страницы новости\n",
        "\n",
        "    # Извлечение нужных данных\n",
        "    title = soup.find('h1').text.strip()  # Заголовок новости\n",
        "    date = soup.find('time').text.strip()  # Дата публикации\n",
        "    author = soup.find('meta', {'name': 'author'})['content'] if soup.find('meta', {'name': 'author'}) else None  # Автор\n",
        "    text = ' '.join([p.text for p in soup.find_all('p')])  # Текст новости\n",
        "    categories = [tag.text for tag in soup.find_all('a', rel='category tag')]  # Категории новости\n",
        "\n",
        "    return {\n",
        "        'title': title,\n",
        "        'date': date,\n",
        "        'author': author,\n",
        "        'text': text,\n",
        "        'categories': categories\n",
        "    }"
      ],
      "metadata": {
        "id": "SFs-VCL6DMqL"
      },
      "execution_count": null,
      "outputs": []
    },
    {
      "cell_type": "markdown",
      "source": [
        "### шаг 4"
      ],
      "metadata": {
        "id": "_Si6KFXkDV9d"
      }
    },
    {
      "cell_type": "code",
      "source": [
        "# Основной код для сбора данных\n",
        "def collect_news_data(base_url, last_page):\n",
        "    pages = collect_news_pages(base_url, last_page)  # Получение всех страниц новостей\n",
        "    news_links = collect_news_links(pages)  # Получение всех ссылок на новости\n",
        "    news_data = []\n",
        "\n",
        "    for link in tqdm(news_links):\n",
        "        try:\n",
        "            news_details = parse_news_details(link)  # Парсинг деталей каждой новости\n",
        "            news_data.append(news_details)\n",
        "        except Exception as e:\n",
        "            print(f\"Error parsing {link}: {e}\")\n",
        "\n",
        "    return pd.DataFrame(news_data)  # Преобразование данных в DataFrame"
      ],
      "metadata": {
        "id": "Tp4tcVgGDeJs"
      },
      "execution_count": null,
      "outputs": []
    },
    {
      "cell_type": "markdown",
      "source": [
        "### шаг 5"
      ],
      "metadata": {
        "id": "i2gKsPgUDkMf"
      }
    },
    {
      "cell_type": "code",
      "source": [
        "# Вызов функции сбора данных\n",
        "\n",
        "base_url = 'https://sysblok.ru'\n",
        "last_page = 6  # Примерное количество страниц\n",
        "news_df = collect_news_data(base_url, last_page)  # Сбор данных"
      ],
      "metadata": {
        "id": "5Aj9qgg8DjiJ",
        "colab": {
          "base_uri": "https://localhost:8080/"
        },
        "outputId": "16fa5d1e-6301-4af2-83b6-89f87e6daaa7"
      },
      "execution_count": null,
      "outputs": [
        {
          "output_type": "stream",
          "name": "stderr",
          "text": [
            "100%|██████████| 426/426 [08:21<00:00,  1.18s/it]\n"
          ]
        }
      ]
    },
    {
      "cell_type": "code",
      "source": [
        "news_df.sample(n=5) # Пример случайных 5 новостей из набора"
      ],
      "metadata": {
        "id": "q_fpJ3f1DqvX",
        "colab": {
          "base_uri": "https://localhost:8080/",
          "height": 293
        },
        "outputId": "8a82ad9c-f323-4608-d6e7-fb15c00deec9"
      },
      "execution_count": null,
      "outputs": [
        {
          "output_type": "execute_result",
          "data": {
            "text/plain": [
              "                                                 title        date  \\\n",
              "256      Мозг меланхолика: видно ли темперамент на ЭЭГ  07.04.2022   \n",
              "77   Эйджинг и социальное неравенство: искусственны...  26.11.2023   \n",
              "205  Статистика империи инков: студент дешифровал у...  16.09.2022   \n",
              "176  «Персоналистские диктатуры чаще начинают войны...  10.01.2023   \n",
              "283  Рекомендательные системы плохо работают для му...  10.01.2022   \n",
              "\n",
              "                  author                                               text  \\\n",
              "256  Алексеева Екатерина    \\nМы часто слышим фразы вроде «Он не проявля...   \n",
              "77       Ирина Дружинина    \\nООН прогнозирует, что к 2100 году пожилые ...   \n",
              "205       Ольга Шелухина    \\nСтудент Гарварда сравнил документ переписи...   \n",
              "176      Системный Блокъ    \\nСистемный Блокъ поговорил с политологом Эр...   \n",
              "283         Мария Адзхед    \\nЕсли вы слушаете не мейнстрим, скорее всег...   \n",
              "\n",
              "               categories  \n",
              "256          [Психология]  \n",
              "77             [Общество]  \n",
              "205             [История]  \n",
              "176  [Интервью, Общество]  \n",
              "283             [Новости]  "
            ],
            "text/html": [
              "\n",
              "  <div id=\"df-4365910f-d71b-44fc-8797-8b2d2c012fc5\" class=\"colab-df-container\">\n",
              "    <div>\n",
              "<style scoped>\n",
              "    .dataframe tbody tr th:only-of-type {\n",
              "        vertical-align: middle;\n",
              "    }\n",
              "\n",
              "    .dataframe tbody tr th {\n",
              "        vertical-align: top;\n",
              "    }\n",
              "\n",
              "    .dataframe thead th {\n",
              "        text-align: right;\n",
              "    }\n",
              "</style>\n",
              "<table border=\"1\" class=\"dataframe\">\n",
              "  <thead>\n",
              "    <tr style=\"text-align: right;\">\n",
              "      <th></th>\n",
              "      <th>title</th>\n",
              "      <th>date</th>\n",
              "      <th>author</th>\n",
              "      <th>text</th>\n",
              "      <th>categories</th>\n",
              "    </tr>\n",
              "  </thead>\n",
              "  <tbody>\n",
              "    <tr>\n",
              "      <th>256</th>\n",
              "      <td>Мозг меланхолика: видно ли темперамент на ЭЭГ</td>\n",
              "      <td>07.04.2022</td>\n",
              "      <td>Алексеева Екатерина</td>\n",
              "      <td>\\nМы часто слышим фразы вроде «Он не проявля...</td>\n",
              "      <td>[Психология]</td>\n",
              "    </tr>\n",
              "    <tr>\n",
              "      <th>77</th>\n",
              "      <td>Эйджинг и социальное неравенство: искусственны...</td>\n",
              "      <td>26.11.2023</td>\n",
              "      <td>Ирина Дружинина</td>\n",
              "      <td>\\nООН прогнозирует, что к 2100 году пожилые ...</td>\n",
              "      <td>[Общество]</td>\n",
              "    </tr>\n",
              "    <tr>\n",
              "      <th>205</th>\n",
              "      <td>Статистика империи инков: студент дешифровал у...</td>\n",
              "      <td>16.09.2022</td>\n",
              "      <td>Ольга Шелухина</td>\n",
              "      <td>\\nСтудент Гарварда сравнил документ переписи...</td>\n",
              "      <td>[История]</td>\n",
              "    </tr>\n",
              "    <tr>\n",
              "      <th>176</th>\n",
              "      <td>«Персоналистские диктатуры чаще начинают войны...</td>\n",
              "      <td>10.01.2023</td>\n",
              "      <td>Системный Блокъ</td>\n",
              "      <td>\\nСистемный Блокъ поговорил с политологом Эр...</td>\n",
              "      <td>[Интервью, Общество]</td>\n",
              "    </tr>\n",
              "    <tr>\n",
              "      <th>283</th>\n",
              "      <td>Рекомендательные системы плохо работают для му...</td>\n",
              "      <td>10.01.2022</td>\n",
              "      <td>Мария Адзхед</td>\n",
              "      <td>\\nЕсли вы слушаете не мейнстрим, скорее всег...</td>\n",
              "      <td>[Новости]</td>\n",
              "    </tr>\n",
              "  </tbody>\n",
              "</table>\n",
              "</div>\n",
              "    <div class=\"colab-df-buttons\">\n",
              "\n",
              "  <div class=\"colab-df-container\">\n",
              "    <button class=\"colab-df-convert\" onclick=\"convertToInteractive('df-4365910f-d71b-44fc-8797-8b2d2c012fc5')\"\n",
              "            title=\"Convert this dataframe to an interactive table.\"\n",
              "            style=\"display:none;\">\n",
              "\n",
              "  <svg xmlns=\"http://www.w3.org/2000/svg\" height=\"24px\" viewBox=\"0 -960 960 960\">\n",
              "    <path d=\"M120-120v-720h720v720H120Zm60-500h600v-160H180v160Zm220 220h160v-160H400v160Zm0 220h160v-160H400v160ZM180-400h160v-160H180v160Zm440 0h160v-160H620v160ZM180-180h160v-160H180v160Zm440 0h160v-160H620v160Z\"/>\n",
              "  </svg>\n",
              "    </button>\n",
              "\n",
              "  <style>\n",
              "    .colab-df-container {\n",
              "      display:flex;\n",
              "      gap: 12px;\n",
              "    }\n",
              "\n",
              "    .colab-df-convert {\n",
              "      background-color: #E8F0FE;\n",
              "      border: none;\n",
              "      border-radius: 50%;\n",
              "      cursor: pointer;\n",
              "      display: none;\n",
              "      fill: #1967D2;\n",
              "      height: 32px;\n",
              "      padding: 0 0 0 0;\n",
              "      width: 32px;\n",
              "    }\n",
              "\n",
              "    .colab-df-convert:hover {\n",
              "      background-color: #E2EBFA;\n",
              "      box-shadow: 0px 1px 2px rgba(60, 64, 67, 0.3), 0px 1px 3px 1px rgba(60, 64, 67, 0.15);\n",
              "      fill: #174EA6;\n",
              "    }\n",
              "\n",
              "    .colab-df-buttons div {\n",
              "      margin-bottom: 4px;\n",
              "    }\n",
              "\n",
              "    [theme=dark] .colab-df-convert {\n",
              "      background-color: #3B4455;\n",
              "      fill: #D2E3FC;\n",
              "    }\n",
              "\n",
              "    [theme=dark] .colab-df-convert:hover {\n",
              "      background-color: #434B5C;\n",
              "      box-shadow: 0px 1px 3px 1px rgba(0, 0, 0, 0.15);\n",
              "      filter: drop-shadow(0px 1px 2px rgba(0, 0, 0, 0.3));\n",
              "      fill: #FFFFFF;\n",
              "    }\n",
              "  </style>\n",
              "\n",
              "    <script>\n",
              "      const buttonEl =\n",
              "        document.querySelector('#df-4365910f-d71b-44fc-8797-8b2d2c012fc5 button.colab-df-convert');\n",
              "      buttonEl.style.display =\n",
              "        google.colab.kernel.accessAllowed ? 'block' : 'none';\n",
              "\n",
              "      async function convertToInteractive(key) {\n",
              "        const element = document.querySelector('#df-4365910f-d71b-44fc-8797-8b2d2c012fc5');\n",
              "        const dataTable =\n",
              "          await google.colab.kernel.invokeFunction('convertToInteractive',\n",
              "                                                    [key], {});\n",
              "        if (!dataTable) return;\n",
              "\n",
              "        const docLinkHtml = 'Like what you see? Visit the ' +\n",
              "          '<a target=\"_blank\" href=https://colab.research.google.com/notebooks/data_table.ipynb>data table notebook</a>'\n",
              "          + ' to learn more about interactive tables.';\n",
              "        element.innerHTML = '';\n",
              "        dataTable['output_type'] = 'display_data';\n",
              "        await google.colab.output.renderOutput(dataTable, element);\n",
              "        const docLink = document.createElement('div');\n",
              "        docLink.innerHTML = docLinkHtml;\n",
              "        element.appendChild(docLink);\n",
              "      }\n",
              "    </script>\n",
              "  </div>\n",
              "\n",
              "\n",
              "<div id=\"df-b603917f-e2b7-43ad-9e24-78fd037a3136\">\n",
              "  <button class=\"colab-df-quickchart\" onclick=\"quickchart('df-b603917f-e2b7-43ad-9e24-78fd037a3136')\"\n",
              "            title=\"Suggest charts\"\n",
              "            style=\"display:none;\">\n",
              "\n",
              "<svg xmlns=\"http://www.w3.org/2000/svg\" height=\"24px\"viewBox=\"0 0 24 24\"\n",
              "     width=\"24px\">\n",
              "    <g>\n",
              "        <path d=\"M19 3H5c-1.1 0-2 .9-2 2v14c0 1.1.9 2 2 2h14c1.1 0 2-.9 2-2V5c0-1.1-.9-2-2-2zM9 17H7v-7h2v7zm4 0h-2V7h2v10zm4 0h-2v-4h2v4z\"/>\n",
              "    </g>\n",
              "</svg>\n",
              "  </button>\n",
              "\n",
              "<style>\n",
              "  .colab-df-quickchart {\n",
              "      --bg-color: #E8F0FE;\n",
              "      --fill-color: #1967D2;\n",
              "      --hover-bg-color: #E2EBFA;\n",
              "      --hover-fill-color: #174EA6;\n",
              "      --disabled-fill-color: #AAA;\n",
              "      --disabled-bg-color: #DDD;\n",
              "  }\n",
              "\n",
              "  [theme=dark] .colab-df-quickchart {\n",
              "      --bg-color: #3B4455;\n",
              "      --fill-color: #D2E3FC;\n",
              "      --hover-bg-color: #434B5C;\n",
              "      --hover-fill-color: #FFFFFF;\n",
              "      --disabled-bg-color: #3B4455;\n",
              "      --disabled-fill-color: #666;\n",
              "  }\n",
              "\n",
              "  .colab-df-quickchart {\n",
              "    background-color: var(--bg-color);\n",
              "    border: none;\n",
              "    border-radius: 50%;\n",
              "    cursor: pointer;\n",
              "    display: none;\n",
              "    fill: var(--fill-color);\n",
              "    height: 32px;\n",
              "    padding: 0;\n",
              "    width: 32px;\n",
              "  }\n",
              "\n",
              "  .colab-df-quickchart:hover {\n",
              "    background-color: var(--hover-bg-color);\n",
              "    box-shadow: 0 1px 2px rgba(60, 64, 67, 0.3), 0 1px 3px 1px rgba(60, 64, 67, 0.15);\n",
              "    fill: var(--button-hover-fill-color);\n",
              "  }\n",
              "\n",
              "  .colab-df-quickchart-complete:disabled,\n",
              "  .colab-df-quickchart-complete:disabled:hover {\n",
              "    background-color: var(--disabled-bg-color);\n",
              "    fill: var(--disabled-fill-color);\n",
              "    box-shadow: none;\n",
              "  }\n",
              "\n",
              "  .colab-df-spinner {\n",
              "    border: 2px solid var(--fill-color);\n",
              "    border-color: transparent;\n",
              "    border-bottom-color: var(--fill-color);\n",
              "    animation:\n",
              "      spin 1s steps(1) infinite;\n",
              "  }\n",
              "\n",
              "  @keyframes spin {\n",
              "    0% {\n",
              "      border-color: transparent;\n",
              "      border-bottom-color: var(--fill-color);\n",
              "      border-left-color: var(--fill-color);\n",
              "    }\n",
              "    20% {\n",
              "      border-color: transparent;\n",
              "      border-left-color: var(--fill-color);\n",
              "      border-top-color: var(--fill-color);\n",
              "    }\n",
              "    30% {\n",
              "      border-color: transparent;\n",
              "      border-left-color: var(--fill-color);\n",
              "      border-top-color: var(--fill-color);\n",
              "      border-right-color: var(--fill-color);\n",
              "    }\n",
              "    40% {\n",
              "      border-color: transparent;\n",
              "      border-right-color: var(--fill-color);\n",
              "      border-top-color: var(--fill-color);\n",
              "    }\n",
              "    60% {\n",
              "      border-color: transparent;\n",
              "      border-right-color: var(--fill-color);\n",
              "    }\n",
              "    80% {\n",
              "      border-color: transparent;\n",
              "      border-right-color: var(--fill-color);\n",
              "      border-bottom-color: var(--fill-color);\n",
              "    }\n",
              "    90% {\n",
              "      border-color: transparent;\n",
              "      border-bottom-color: var(--fill-color);\n",
              "    }\n",
              "  }\n",
              "</style>\n",
              "\n",
              "  <script>\n",
              "    async function quickchart(key) {\n",
              "      const quickchartButtonEl =\n",
              "        document.querySelector('#' + key + ' button');\n",
              "      quickchartButtonEl.disabled = true;  // To prevent multiple clicks.\n",
              "      quickchartButtonEl.classList.add('colab-df-spinner');\n",
              "      try {\n",
              "        const charts = await google.colab.kernel.invokeFunction(\n",
              "            'suggestCharts', [key], {});\n",
              "      } catch (error) {\n",
              "        console.error('Error during call to suggestCharts:', error);\n",
              "      }\n",
              "      quickchartButtonEl.classList.remove('colab-df-spinner');\n",
              "      quickchartButtonEl.classList.add('colab-df-quickchart-complete');\n",
              "    }\n",
              "    (() => {\n",
              "      let quickchartButtonEl =\n",
              "        document.querySelector('#df-b603917f-e2b7-43ad-9e24-78fd037a3136 button');\n",
              "      quickchartButtonEl.style.display =\n",
              "        google.colab.kernel.accessAllowed ? 'block' : 'none';\n",
              "    })();\n",
              "  </script>\n",
              "</div>\n",
              "    </div>\n",
              "  </div>\n"
            ]
          },
          "metadata": {},
          "execution_count": 16
        }
      ]
    },
    {
      "cell_type": "code",
      "source": [
        "news_df.to_csv('news.csv', index=False)"
      ],
      "metadata": {
        "id": "0qlva_mSD6TF"
      },
      "execution_count": null,
      "outputs": []
    },
    {
      "cell_type": "markdown",
      "source": [
        "Готово!\n",
        "Загрузите ваш код и собранные новости на GitHub"
      ],
      "metadata": {
        "id": "0lXQWScoDrFm"
      }
    }
  ]
}