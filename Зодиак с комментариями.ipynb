{
  "nbformat": 4,
  "nbformat_minor": 0,
  "metadata": {
    "colab": {
      "provenance": [],
      "include_colab_link": true
    },
    "kernelspec": {
      "name": "python3",
      "display_name": "Python 3"
    },
    "language_info": {
      "name": "python"
    }
  },
  "cells": [
    {
      "cell_type": "markdown",
      "metadata": {
        "id": "view-in-github",
        "colab_type": "text"
      },
      "source": [
        "<a href=\"https://colab.research.google.com/github/AliceDragonfly/HomeworkHSE/blob/main/%D0%97%D0%BE%D0%B4%D0%B8%D0%B0%D0%BA%20%D1%81%20%D0%BA%D0%BE%D0%BC%D0%BC%D0%B5%D0%BD%D1%82%D0%B0%D1%80%D0%B8%D1%8F%D0%BC%D0%B8.ipynb\" target=\"_parent\"><img src=\"https://colab.research.google.com/assets/colab-badge.svg\" alt=\"Open In Colab\"/></a>"
      ]
    },
    {
      "cell_type": "code",
      "execution_count": 13,
      "metadata": {
        "id": "z4ZTGg-eyfgW",
        "colab": {
          "base_uri": "https://localhost:8080/"
        },
        "outputId": "98c2d220-2225-4086-efd5-64c2fa0457ea"
      },
      "outputs": [
        {
          "output_type": "stream",
          "name": "stdout",
          "text": [
            "Введите вашу дату рождения в формате ДД.ММ (например, 23.04)\n",
            "05.04\n",
            "Ваш знак зодиака: Овен\n",
            "День рождения с 21 марта по 19 апреля\n",
            "\n",
            "Овен является первым знаком Зодиака и часто ассоциируется с\n",
            "\n",
            "«ребенком». Это не потому, что они незрелые, а потому, что именно с них\n",
            "\n",
            "начинается весь зодиакальный цикл. Овны - громкие, веселые, полные\n",
            "\n",
            "жизни и приключений. Они верят в жизнь такой, какая она есть, и не\n",
            "\n",
            "сожалеют о том, чего не сделали. Овны спонтанны и веселы по своей\n",
            "\n",
            "природе.\n",
            "\n",
            "В высшей степени ответственные люди, которые считают своим долгом\n",
            "\n",
            "заботиться об окружающих. Будучи детьми Зодиака, они проявляют много\n",
            "\n",
            "сочувствия и заботы о тех, кто в этом нуждается.\n",
            "\n",
            "Иногда их импульсивность доставляет им неприятности, поскольку они не\n",
            "\n",
            "тратят время на размышления о плюсах и минусах решения, прежде чем\n",
            "\n",
            "принять его.\n",
            "\n",
            "Поскольку они упрямы и решительны во всем, они склонны спорить, если\n",
            "\n",
            "не сохраняют непредвзятость. Термин «бычьеголовый» здесь\n",
            "\n",
            "действительно имеет смысл.\n"
          ]
        }
      ],
      "source": [
        "def determine_zodiac_sign(day, month):\n",
        "    if (month == 3 and day >= 21) or (month == 4 and day <= 19):\n",
        "        return \"Овен\"\n",
        "    elif (month == 4 and day >= 20) or (month == 5 and day <= 20):\n",
        "        return \"Телец\"\n",
        "    elif (month == 5 and day >= 21) or (month == 6 and day <= 20):\n",
        "        return \"Близнецы\"\n",
        "    elif (month == 6 and day >= 21) or (month == 7 and day <= 22):\n",
        "        return \"Рак\"\n",
        "    elif (month == 7 and day >= 23) or (month == 8 and day <= 22):\n",
        "        return \"Лев\"\n",
        "    elif (month == 8 and day >= 23) or (month == 9 and day <= 22):\n",
        "        return \"Дева\"\n",
        "    elif (month == 9 and day >= 23) or (month == 10 and day <= 22):\n",
        "        return \"Весы\"\n",
        "    elif (month == 10 and day >= 23) or (month == 11 and day <= 21):\n",
        "        return \"Скорпион\"\n",
        "    elif (month == 11 and day >= 22) or (month == 12 and day <= 21):\n",
        "        return \"Стрелец\"\n",
        "    elif (month == 12 and day >= 22) or (month == 1 and day <= 19):\n",
        "        return \"Козерог\"\n",
        "    elif (month == 1 and day >= 20) or (month == 2 and day <= 18):\n",
        "        return \"Водолей\"\n",
        "    elif (month == 2 and day >= 19) or (month == 3 and day <= 20):\n",
        "        return \"Рыбы\"\n",
        "    else:\n",
        "        return \"Неизвестный\"\n",
        "print('Введите вашу дату рождения в формате ДД.ММ (например, 23.04)')\n",
        "# преобразование каждого числа из строки в цифру\n",
        "day, month = map(int, input().split('.'))\n",
        "\n",
        "# поиск знака\n",
        "zodiac_sign = determine_zodiac_sign(day, month)\n",
        "print(f\"Ваш знак зодиака: {zodiac_sign}\")\n",
        "if zodiac_sign != 'Неизвестный':\n",
        "  # открываем файл\n",
        "  with open(zodiac_sign + '.txt', 'r') as f:\n",
        "    text = f.readlines()\n",
        "\n",
        "# печать текста\n",
        "  print('\\n'.join(text))"
      ]
    }
  ]
}