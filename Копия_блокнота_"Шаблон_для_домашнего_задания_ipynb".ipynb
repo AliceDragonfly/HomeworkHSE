{
  "nbformat": 4,
  "nbformat_minor": 0,
  "metadata": {
    "colab": {
      "provenance": [],
      "include_colab_link": true
    },
    "kernelspec": {
      "name": "python3",
      "display_name": "Python 3"
    },
    "language_info": {
      "name": "python"
    }
  },
  "cells": [
    {
      "cell_type": "markdown",
      "metadata": {
        "id": "view-in-github",
        "colab_type": "text"
      },
      "source": [
        "<a href=\"https://colab.research.google.com/github/AliceDragonfly/HomeworkHSE/blob/main/%D0%9A%D0%BE%D0%BF%D0%B8%D1%8F_%D0%B1%D0%BB%D0%BE%D0%BA%D0%BD%D0%BE%D1%82%D0%B0_%22%D0%A8%D0%B0%D0%B1%D0%BB%D0%BE%D0%BD_%D0%B4%D0%BB%D1%8F_%D0%B4%D0%BE%D0%BC%D0%B0%D1%88%D0%BD%D0%B5%D0%B3%D0%BE_%D0%B7%D0%B0%D0%B4%D0%B0%D0%BD%D0%B8%D1%8F_ipynb%22.ipynb\" target=\"_parent\"><img src=\"https://colab.research.google.com/assets/colab-badge.svg\" alt=\"Open In Colab\"/></a>"
      ]
    },
    {
      "cell_type": "code",
      "source": [
        "# Задание на 8 баллов\n",
        "\n",
        "def determine_zodiac_sign(day, month):\n",
        "    if (month == 3 and day >= 21) or (month == 4 and day <= 19):\n",
        "        return \"Овен\"\n",
        "    elif (month == 4 and day >= 20) or (month == 5 and day <= 20):\n",
        "        return \"Телец\"\n",
        "    elif (month == 5 and day >= 21) or (month == 6 and day <= 20):\n",
        "        return \"Близнецы\"\n",
        "    elif (month == 6 and day >= 21) or (month == 7 and day <= 22):\n",
        "        return \"Рак\"\n",
        "    elif (month == 7 and day >= 23) or (month == 8 and day <= 22):\n",
        "        return \"Лев\"\n",
        "    elif (month == 8 and day >= 23) or (month == 9 and day <= 22):\n",
        "        return \"Дева\"\n",
        "    elif (month == 9 and day >= 23) or (month == 10 and day <= 22):\n",
        "        return \"Весы\"\n",
        "    elif (month == 10 and day >= 23) or (month == 11 and day <= 21):\n",
        "        return \"Скорпион\"\n",
        "    elif (month == 11 and day >= 22) or (month == 12 and day <= 21):\n",
        "        return \"Стрелец\"\n",
        "    elif (month == 12 and day >= 22) or (month == 1 and day <= 19):\n",
        "        return \"Козерог\"\n",
        "    elif (month == 1 and day >= 20) or (month == 2 and day <= 18):\n",
        "        return \"Водолей\"\n",
        "    elif (month == 2 and day >= 19) or (month == 3 and day <= 20):\n",
        "        return \"Рыбы\"\n",
        "    else:\n",
        "        return \"Неизвестный\"\n",
        "\n",
        "print('Введите вашу дату рождения в формате ДД.ММ (например, 23.04)')\n",
        "# Разделение ввода по точке, преобразование каждого числа из строки в цифру\n",
        "day, month = map(int, input().split('.'))\n",
        "\n",
        "# поиск знака\n",
        "zodiac_sign = determine_zodiac_sign(day, month)\n",
        "print(f\"Ваш знак зодиака: {zodiac_sign}\")"
      ],
      "metadata": {
        "id": "XHezysDcR_A7",
        "colab": {
          "base_uri": "https://localhost:8080/"
        },
        "outputId": "62d4e957-9b0d-417b-ed1b-c5c9ba503c12"
      },
      "execution_count": 8,
      "outputs": [
        {
          "output_type": "stream",
          "name": "stdout",
          "text": [
            "Введите вашу дату рождения в формате ДД.ММ (например, 23.04)\n",
            "10.05\n",
            "Ваш знак зодиака: Телец\n"
          ]
        }
      ]
    },
    {
      "cell_type": "code",
      "source": [
        "# Задание на 10 баллов\n",
        "\n",
        "!pip install pytelegrambotapi\n",
        "\n",
        "import telebot\n",
        "from telebot import types"
      ],
      "metadata": {
        "id": "iuR21biaS57C"
      },
      "execution_count": null,
      "outputs": []
    },
    {
      "cell_type": "code",
      "execution_count": null,
      "metadata": {
        "id": "oMrgrt0fRxnk"
      },
      "outputs": [],
      "source": [
        "your_bot = \"ВАШ_ТОКЕН\"\n",
        "\n",
        "bot = telebot.TeleBot(your_bot) # обновим токен\n",
        "\n",
        "@bot.message_handler(commands=[\"start\"])\n",
        "def start(message):\n",
        "  bot.send_message(message.chat.id, \"Приветствие\") # можно поменять текст\n",
        "\n",
        "@bot.message_handler(content_types=[\"text\"])\n",
        "def handle_text(message):\n",
        "  # bot.send_message(message.chat.id, \"Сообщение, которое бот присылает всегда, вне зависимости от ответа пользователя\")\n",
        "  # если не нужно, поставьте перед ним #, и питон будет его пропускать\n",
        "\n",
        "  if message.text.strip() == 'Сообщение пользователя':\n",
        "    bot.send_message(message.chat.id, 'Ответ бота')\n",
        "\n",
        "  elif message.text.strip() == 'Другое сообщение пользователя':\n",
        "    bot.send_message(message.chat.id, 'Ответ бота')\n",
        "\n",
        "  else:\n",
        "    bot.send_message(message.chat.id, 'Ответ бота, если ничего из if - elif не подошло')\n",
        "\n",
        "bot.polling(none_stop=True, interval=0) # запускаем бота"
      ]
    }
  ]
}